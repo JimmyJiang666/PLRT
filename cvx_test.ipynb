{
 "cells": [
  {
   "cell_type": "code",
   "execution_count": 13,
   "metadata": {},
   "outputs": [],
   "source": [
    "import numpy as np\n",
    "import cvxpy as cp\n",
    "\n",
    "def fit_plrt(X, Y, r, M, F):\n",
    "    # Ensure Y is a column vector\n",
    "    Y = Y.reshape(-1, 1)\n",
    "    n, p = X.shape\n",
    "    m = len(F)\n",
    "    \n",
    "    # Adjust indices in F from MATLAB (1-based) to Python (0-based)\n",
    "    F = [np.array(f) - 1 for f in F]\n",
    "    \n",
    "    # Compute rho and cum_rho\n",
    "    rho = np.zeros(m, dtype=int)\n",
    "    for k in range(m):\n",
    "        rho[k] = np.prod(r[F[k]])\n",
    "    cum_rho = np.hstack(([0], np.cumsum(rho)))\n",
    "    \n",
    "    nvars = cum_rho[-1] + n + 2 * m\n",
    "    \n",
    "    # Variables\n",
    "    U = cp.Variable(cum_rho[-1])\n",
    "    pX_U = cp.Variable(n)\n",
    "    eta = cp.Variable(m)\n",
    "    nu = cp.Variable(m)\n",
    "    \n",
    "    # Objective function\n",
    "    obj = cp.Minimize(cp.sum((1 / n) * cp.exp(pX_U) - cp.multiply(Y.flatten() / n, pX_U)))\n",
    "    \n",
    "    # Constraints\n",
    "    constraints = []\n",
    "    \n",
    "    # Lower bounds on eta\n",
    "    constraints += [eta >= -2 * np.log(M)]\n",
    "    # Upper bounds on nu\n",
    "    constraints += [nu <= 2 * np.log(M)]\n",
    "    \n",
    "    # Constraints: U >= eta[ind]\n",
    "    for ind in range(m):\n",
    "        constraints += [U[cum_rho[ind]:cum_rho[ind+1]] - eta[ind] >= 0]\n",
    "        constraints += [nu[ind] - U[cum_rho[ind]:cum_rho[ind+1]] >= 0]\n",
    "    \n",
    "    # Sum constraints\n",
    "    constraints += [cp.sum(eta) + np.log(M) >= 0]\n",
    "    constraints += [np.log(M) - cp.sum(nu) >= 0]\n",
    "    \n",
    "    # Equality constraints: pX_U = sum(U at appropriate indices)\n",
    "    for i in range(n):\n",
    "        expr = 0\n",
    "        for k in range(m):\n",
    "            Fk = F[k]\n",
    "            if len(Fk) > 1:\n",
    "                sub_indices = X[i, Fk] - 1  # Adjust for zero-based indexing\n",
    "                dims = r[Fk]\n",
    "                idx = np.ravel_multi_index(sub_indices.astype(int), dims.astype(int))\n",
    "                expr += U[cum_rho[k] + idx]\n",
    "            else:\n",
    "                idx = int(X[i, Fk[0]] - 1)\n",
    "                expr += U[cum_rho[k] + idx]\n",
    "        constraints += [pX_U[i] == expr]\n",
    "    \n",
    "    # Solve the problem using MOSEK\n",
    "    prob = cp.Problem(obj, constraints)\n",
    "    prob.solve(solver=cp.MOSEK, verbose=False)\n",
    "    \n",
    "    U_value = U.value\n",
    "    pobjval = prob.value\n",
    "    \n",
    "    return U_value, pobjval\n"
   ]
  },
  {
   "cell_type": "code",
   "execution_count": 14,
   "metadata": {},
   "outputs": [
    {
     "data": {
      "text/plain": [
       "array([3, 3, 3])"
      ]
     },
     "execution_count": 14,
     "metadata": {},
     "output_type": "execute_result"
    }
   ],
   "source": [
    "X = np.array([[1, 1, 1],\n",
    "              [2, 1, 3],\n",
    "              [2, 1, 2],\n",
    "              [2, 2, 3],\n",
    "              [3, 1, 3],\n",
    "              [2, 3, 3]])\n",
    "\n",
    "Y = np.array([0.5, 0.6, 0.3, 0.7, 0.3, 0.8])\n",
    "\n",
    "# The maximum value for each predictor (assuming predictors range from 1 to r_j)\n",
    "r = np.max(X, axis=0)\n",
    "r"
   ]
  },
  {
   "cell_type": "code",
   "execution_count": 15,
   "metadata": {},
   "outputs": [
    {
     "name": "stdout",
     "output_type": "stream",
     "text": [
      "Optimized U values:\n",
      "[-0.119485   -0.08611939 -0.46606811 -0.45415308 -0.18447056 -0.05092965\n",
      " -0.11948935 -0.46607239 -0.08612421]\n",
      "Objective function value:\n",
      "0.8366709194928581\n"
     ]
    }
   ],
   "source": [
    "import numpy as np\n",
    "\n",
    "# Sample data for testing the fit_plrt function\n",
    "\n",
    "# Predictor matrix X (each row is a sample, each column is a predictor)\n",
    "X = np.array([[1, 1, 1],\n",
    "              [2, 1, 3],\n",
    "              [2, 1, 2],\n",
    "              [2, 2, 3],\n",
    "              [3, 1, 3],\n",
    "              [2, 3, 3]])\n",
    "\n",
    "Y = np.array([0.5, 0.6, 0.3, 0.7, 0.3, 0.8])\n",
    "\n",
    "# The maximum value for each predictor (assuming predictors range from 1 to r_j)\n",
    "r = np.max(X, axis=0)\n",
    "\n",
    "# Scalar parameter M\n",
    "M = 4\n",
    "\n",
    "# Grouping structure F (list of arrays)\n",
    "# Example 1: Each predictor is its own group\n",
    "F = [np.array([1]), np.array([2]), np.array([3])]\n",
    "\n",
    "# Example 2: Group first two predictors together\n",
    "# F = [np.array([1, 2]), np.array([3])]\n",
    "\n",
    "# Call the fit_plrt function\n",
    "U_value, pobjval = fit_plrt(X, Y, r, M, F)\n",
    "\n",
    "# Display the outputs\n",
    "print('Optimized U values:')\n",
    "print(U_value)\n",
    "\n",
    "print('Objective function value:')\n",
    "print(pobjval)\n"
   ]
  },
  {
   "cell_type": "code",
   "execution_count": 12,
   "metadata": {},
   "outputs": [
    {
     "data": {
      "text/plain": [
       "[array([1]), array([2]), array([3])]"
      ]
     },
     "execution_count": 12,
     "metadata": {},
     "output_type": "execute_result"
    }
   ],
   "source": [
    "F = [np.array([1]), np.array([2]), np.array([3])]\n",
    "F"
   ]
  },
  {
   "cell_type": "code",
   "execution_count": 5,
   "metadata": {},
   "outputs": [
    {
     "name": "stdout",
     "output_type": "stream",
     "text": [
      "Optimized U values:\n",
      "[ 0.46935075  0.56051166 -0.13263572  0.15991074  0.26530034  0.26530924\n",
      "  0.46935075 -0.13263572  0.56051166]\n",
      "Objective function value:\n",
      "-0.7166527296712855\n"
     ]
    }
   ],
   "source": [
    "print('Optimized U values:')\n",
    "print(U_value)\n",
    "\n",
    "print('Objective function value:')\n",
    "print(pobjval)\n"
   ]
  },
  {
   "cell_type": "code",
   "execution_count": null,
   "metadata": {},
   "outputs": [],
   "source": []
  }
 ],
 "metadata": {
  "kernelspec": {
   "display_name": "Python 3",
   "language": "python",
   "name": "python3"
  },
  "language_info": {
   "codemirror_mode": {
    "name": "ipython",
    "version": 3
   },
   "file_extension": ".py",
   "mimetype": "text/x-python",
   "name": "python",
   "nbconvert_exporter": "python",
   "pygments_lexer": "ipython3",
   "version": "3.9.6"
  }
 },
 "nbformat": 4,
 "nbformat_minor": 2
}
